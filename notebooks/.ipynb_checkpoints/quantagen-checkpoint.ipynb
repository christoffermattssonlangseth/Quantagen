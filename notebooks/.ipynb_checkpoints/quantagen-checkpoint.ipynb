{
  "cells": [
    {
      "cell_type": "markdown",
      "metadata": {
        "id": "2yY1R6WYMfnj"
      },
      "source": []
    },
    {
      "cell_type": "markdown",
      "metadata": {
        "id": "KVFwz27AMf9a"
      },
      "source": []
    },
    {
      "cell_type": "markdown",
      "metadata": {
        "id": "OwgVQ_Zb-OuT"
      },
      "source": [
        "# Define functions\n",
        "First, we need to define the functions that we need to use for indentifying the spots in the images. Press the **play** button to execute the chunk of code and if you are curious about what is going on behind the scenes, **show code** expands the full code.\n",
        "\n",
        "The way to execute the code is to either press the **play** button or press **shift+enter**"
      ]
    },
    {
      "cell_type": "code",
      "execution_count": null,
      "metadata": {
        "id": "5nfGeDVIrglw"
      },
      "outputs": [],
      "source": [
        "import Quantagen "
      ]
    },
    {
      "cell_type": "markdown",
      "metadata": {
        "id": "weRKK_wQ_ftk"
      },
      "source": [
        "# Define path to images and the desired output location\n",
        "In this step it is important that your drive has been mounted correctly since we need to locate where the files are stored. We will point to the program where to look for your images.\n",
        "\n",
        "Also, we will extract the dimensions of your images for you the user to check if the dimensions extracted (C - channels; Z - Z-stacks; X & Y pixel dimension) are correct, and if they are specified in the right order (see below)."
      ]
    },
    {
      "cell_type": "code",
      "execution_count": null,
      "metadata": {
        "colab": {
          "base_uri": "https://localhost:8080/"
        },
        "id": "hIwIK7yOPp5H",
        "outputId": "09bb2500-9cee-4893-98a9-55c6267fc8c3"
      },
      "outputs": [
        {
          "name": "stdout",
          "output_type": "stream",
          "text": [
            " \n",
            "Image 1, Z dimension seems to be (1): 5\n",
            "Image 1, X dimension seems to be (2): 2048\n",
            "Image 1, Y dimension seems to be (3): 2048\n",
            " \n",
            "Image 2, Z dimension seems to be (1): 5\n",
            "Image 2, X dimension seems to be (2): 2048\n",
            "Image 2, Y dimension seems to be (3): 2048\n",
            " \n",
            "Image 3, Z dimension seems to be (1): 5\n",
            "Image 3, X dimension seems to be (2): 2048\n",
            "Image 3, Y dimension seems to be (3): 2048\n",
            " \n",
            "Image 4, Z dimension seems to be (1): 5\n",
            "Image 4, X dimension seems to be (2): 2048\n",
            "Image 4, Y dimension seems to be (3): 2048\n",
            " \n",
            "Image 5, Z dimension seems to be (1): 5\n",
            "Image 5, X dimension seems to be (2): 2048\n",
            "Image 5, Y dimension seems to be (3): 2048\n",
            " \n",
            "Image 6, Z dimension seems to be (1): 5\n",
            "Image 6, X dimension seems to be (2): 2048\n",
            "Image 6, Y dimension seems to be (3): 2048\n",
            " \n",
            "Image 7, Z dimension seems to be (1): 5\n",
            "Image 7, X dimension seems to be (2): 2048\n",
            "Image 7, Y dimension seems to be (3): 2048\n",
            " \n",
            "Image 8, Z dimension seems to be (1): 5\n",
            "Image 8, X dimension seems to be (2): 2048\n",
            "Image 8, Y dimension seems to be (3): 2048\n",
            " \n",
            "Image 9, Z dimension seems to be (1): 5\n",
            "Image 9, X dimension seems to be (2): 2048\n",
            "Image 9, Y dimension seems to be (3): 2048\n",
            " \n",
            "Image 10, Z dimension seems to be (1): 5\n",
            "Image 10, X dimension seems to be (2): 2048\n",
            "Image 10, Y dimension seems to be (3): 2048\n",
            " \n",
            "Image 11, Z dimension seems to be (1): 5\n",
            "Image 11, X dimension seems to be (2): 2048\n",
            "Image 11, Y dimension seems to be (3): 2048\n",
            " \n",
            "Image 12, Z dimension seems to be (1): 5\n",
            "Image 12, X dimension seems to be (2): 2048\n",
            "Image 12, Y dimension seems to be (3): 2048\n",
            " \n",
            "Image 13, Z dimension seems to be (1): 5\n",
            "Image 13, X dimension seems to be (2): 2048\n",
            "Image 13, Y dimension seems to be (3): 2048\n",
            " \n",
            "Image 14, Z dimension seems to be (1): 5\n",
            "Image 14, X dimension seems to be (2): 2048\n",
            "Image 14, Y dimension seems to be (3): 2048\n",
            " \n",
            "Image 15, Z dimension seems to be (1): 5\n",
            "Image 15, X dimension seems to be (2): 2048\n",
            "Image 15, Y dimension seems to be (3): 2048\n",
            " \n",
            "Image 16, Z dimension seems to be (1): 5\n",
            "Image 16, X dimension seems to be (2): 2048\n",
            "Image 16, Y dimension seems to be (3): 2048\n",
            " \n",
            "Image 17, Z dimension seems to be (1): 5\n",
            "Image 17, X dimension seems to be (2): 2048\n",
            "Image 17, Y dimension seems to be (3): 2048\n",
            " \n",
            "Image 18, Z dimension seems to be (1): 5\n",
            "Image 18, X dimension seems to be (2): 2048\n",
            "Image 18, Y dimension seems to be (3): 2048\n",
            " \n",
            "Image 19, Z dimension seems to be (1): 5\n",
            "Image 19, X dimension seems to be (2): 2048\n",
            "Image 19, Y dimension seems to be (3): 2048\n",
            " \n",
            "Image 20, Z dimension seems to be (1): 5\n",
            "Image 20, X dimension seems to be (2): 2048\n",
            "Image 20, Y dimension seems to be (3): 2048\n",
            " \n",
            "Image 21, Z dimension seems to be (1): 5\n",
            "Image 21, X dimension seems to be (2): 2048\n",
            "Image 21, Y dimension seems to be (3): 2048\n",
            " \n",
            "Image 22, Z dimension seems to be (1): 5\n",
            "Image 22, X dimension seems to be (2): 2048\n",
            "Image 22, Y dimension seems to be (3): 2048\n",
            " \n",
            "Image 23, Z dimension seems to be (1): 5\n",
            "Image 23, X dimension seems to be (2): 2048\n",
            "Image 23, Y dimension seems to be (3): 2048\n",
            " \n",
            "Image 24, Z dimension seems to be (1): 5\n",
            "Image 24, X dimension seems to be (2): 2048\n",
            "Image 24, Y dimension seems to be (3): 2048\n",
            " \n",
            "Image 25, Z dimension seems to be (1): 5\n",
            "Image 25, X dimension seems to be (2): 2048\n",
            "Image 25, Y dimension seems to be (3): 2048\n",
            " \n",
            "Image 26, Z dimension seems to be (1): 5\n",
            "Image 26, X dimension seems to be (2): 2048\n",
            "Image 26, Y dimension seems to be (3): 2048\n",
            " \n",
            "Image 27, Z dimension seems to be (1): 5\n",
            "Image 27, X dimension seems to be (2): 2048\n",
            "Image 27, Y dimension seems to be (3): 2048\n",
            " \n",
            "Image 28, Z dimension seems to be (1): 5\n",
            "Image 28, X dimension seems to be (2): 2048\n",
            "Image 28, Y dimension seems to be (3): 2048\n",
            " \n",
            "Image 29, Z dimension seems to be (1): 5\n",
            "Image 29, X dimension seems to be (2): 2048\n",
            "Image 29, Y dimension seems to be (3): 2048\n",
            " \n",
            "Image 30, Z dimension seems to be (1): 5\n",
            "Image 30, X dimension seems to be (2): 2048\n",
            "Image 30, Y dimension seems to be (3): 2048\n",
            " \n",
            "Image 31, Z dimension seems to be (1): 5\n",
            "Image 31, X dimension seems to be (2): 2048\n",
            "Image 31, Y dimension seems to be (3): 2048\n",
            " \n",
            "Image 32, Z dimension seems to be (1): 5\n",
            "Image 32, X dimension seems to be (2): 2048\n",
            "Image 32, Y dimension seems to be (3): 2048\n",
            " \n",
            "Image 33, Z dimension seems to be (1): 5\n",
            "Image 33, X dimension seems to be (2): 2048\n",
            "Image 33, Y dimension seems to be (3): 2048\n",
            " \n",
            "Please proceed to the analysis only if dimensions are correct. Otherwise you need to change the parameters specified in index values in countagen_main, following the instructions in the IMPORTANT NOTE section\n"
          ]
        }
      ],
      "source": [
        "path = '/content/gdrive/MyDrive/CG23-06.5.5/'\n",
        "output_folder = '/content/gdrive/MyDrive/CG23-06.5.5/marco_output/'\n",
        "if not os.path.exists(output_folder):\n",
        "    os.makedirs(output_folder)\n",
        "files = get_image_dimensions(path)"
      ]
    },
    {
      "cell_type": "markdown",
      "metadata": {
        "id": "QtloyB6kX3J5"
      },
      "source": [
        "# Important note!\n",
        "Now it is time to make sure that your images have the dimensions specified in the right order. Have a look at the output from the previous cell. Does this make sense?\n",
        "\n",
        "If you think the order is not accurate (ie. channels and number of z-planes are inverted), you need to change the **numbering** of the following parameters in the next chunk of code, where the *countagen_main* function is applied.\n",
        "\n",
        "1. channel_index = 0\n",
        "2. z_stack_index = 1\n",
        "3. x_index = 2\n",
        "4. y_index = 3\n",
        "\n",
        "As an example:\n",
        "Imagine you took an image with 7 z-planes, in 3 colours, with a XY resolution of 1000x2000, you load it in the script and the output from the previous block of code says:\n",
        "\n",
        "*Image A, C dimension seems to be (0): 7*\n",
        "\n",
        "*Image A, Z dimension seems to be (1): 3*\n",
        "\n",
        "*Image A, X dimension seems to be (2): 1000*\n",
        "\n",
        "*Image A, Y dimension seems to be (3): 2000*\n",
        "\n",
        "This is a sign that your C (channel) and Z dimensions have been misattributed. This sometimes can happen depending on the software you used to generate the images. In this specificic case your image's dimensions are specified in the order ZCXY, while this scripts wants the images to be specified in the order CZXY.\n",
        "\n",
        "This problem can easily be fixed by re-specifying the sequence of dimensions in the following function. Keep in mind that python begins to count from 0, so the first dimension has position 0, the second has 1, etc....\n",
        "\n",
        "In this specific case, where we want to convert a ZCXY image into a CZXY image, we just need to invert the numbering of the parameters:\n",
        "\n",
        "channel_index = (we now should set it to 1)\n",
        "\n",
        "z_stack_index = (we now should set it to 0)\n",
        "\n",
        "This will shuffle the image dimension accordingly, and proceed to image processing.\n",
        "\n",
        "**Because the script processes entire folders, it is important that the image orders are specified in the same way for all the files in the folder. If you have files with different dimension orders in a single folder, please move them to separate subfolders and process each subfolder independently.**\n"
      ]
    },
    {
      "cell_type": "markdown",
      "metadata": {
        "id": "PfPvGc0lPtbC"
      },
      "source": [
        "# Main function\n",
        "Now it is time to run the main function in the detection.\n",
        "\n",
        "## Parameters to play with:\n",
        "\n",
        "\n",
        "1. **project:**: this specifies whether the images need to be projected (True) or if they have already been projected with an external software (False)\n",
        "2. **threshold**: this is the most important parameter in the detection. Smaller threshold will allow more spots to be captured but you run the risk of capturing more noise.\n",
        "3. **mult**: this is multiplication factor that we apply to the images for visualization purposes and **will not** have an effect on the output. Default here is 10.\n",
        "4. **radius**: this is the top hat filter radius to use in the filtering of the images. Bigger values will allow bigger spots to be kept.\n",
        "\n",
        "Dimensions order:  see the documentation of the previous block to understand how to manipulate these parameters according to your image type."
      ]
    },
    {
      "cell_type": "code",
      "execution_count": null,
      "metadata": {
        "colab": {
          "base_uri": "https://localhost:8080/",
          "height": 468
        },
        "id": "Pevvdw7WrhHf",
        "outputId": "31061d2c-917b-43c3-f3d1-470cca334b7b"
      },
      "outputs": [
        {
          "name": "stdout",
          "output_type": "stream",
          "text": [
            "['5-a_RAW_ch00.tif', '5-a_RAW_ch01.tif', '5-a_RAW_ch02.tif']\n",
            "5-a\n",
            "Grouping done\n",
            "0\n",
            "(2048, 2048)\n"
          ]
        },
        {
          "ename": "KeyboardInterrupt",
          "evalue": "ignored",
          "output_type": "error",
          "traceback": [
            "\u001b[0;31m---------------------------------------------------------------------------\u001b[0m",
            "\u001b[0;31mKeyboardInterrupt\u001b[0m                         Traceback (most recent call last)",
            "\u001b[0;32m<ipython-input-18-5c728aa5fcf2>\u001b[0m in \u001b[0;36m<cell line: 3>\u001b[0;34m()\u001b[0m\n\u001b[1;32m      9\u001b[0m     \u001b[0mimage\u001b[0m\u001b[0;34m=\u001b[0m\u001b[0mgroup_channels\u001b[0m\u001b[0;34m(\u001b[0m\u001b[0mpath\u001b[0m\u001b[0;34m,\u001b[0m\u001b[0mfile\u001b[0m\u001b[0;34m,\u001b[0m\u001b[0msuffixes\u001b[0m\u001b[0;34m)\u001b[0m\u001b[0;34m\u001b[0m\u001b[0;34m\u001b[0m\u001b[0m\n\u001b[1;32m     10\u001b[0m     \u001b[0mprint\u001b[0m\u001b[0;34m(\u001b[0m\u001b[0;34m'Grouping done'\u001b[0m\u001b[0;34m)\u001b[0m\u001b[0;34m\u001b[0m\u001b[0;34m\u001b[0m\u001b[0m\n\u001b[0;32m---> 11\u001b[0;31m     concat_df,image_norm = countagen_main(\n\u001b[0m\u001b[1;32m     12\u001b[0m         \u001b[0mimage\u001b[0m \u001b[0;34m=\u001b[0m \u001b[0mimage\u001b[0m\u001b[0;34m,\u001b[0m\u001b[0;34m\u001b[0m\u001b[0;34m\u001b[0m\u001b[0m\n\u001b[1;32m     13\u001b[0m         \u001b[0mchannel_index\u001b[0m \u001b[0;34m=\u001b[0m \u001b[0;36m0\u001b[0m\u001b[0;34m,\u001b[0m\u001b[0;34m\u001b[0m\u001b[0;34m\u001b[0m\u001b[0m\n",
            "\u001b[0;32m<ipython-input-1-ce54ce49a735>\u001b[0m in \u001b[0;36mcountagen_main\u001b[0;34m(image, channel_index, z_stack_index, threshold, run_rolling_ball, footprint_value, max_radius, min_radius, quantile_to_filter, plot_blobs, cmap_im, mult_factor, cmap_spots, save_figure, path_file, alpha_spots, channels)\u001b[0m\n\u001b[1;32m     74\u001b[0m     \u001b[0;32mfor\u001b[0m \u001b[0mim\u001b[0m \u001b[0;32min\u001b[0m \u001b[0mrange\u001b[0m\u001b[0;34m(\u001b[0m\u001b[0mprojected\u001b[0m\u001b[0;34m.\u001b[0m\u001b[0mshape\u001b[0m\u001b[0;34m[\u001b[0m\u001b[0;36m0\u001b[0m\u001b[0;34m]\u001b[0m\u001b[0;34m)\u001b[0m\u001b[0;34m:\u001b[0m\u001b[0;34m\u001b[0m\u001b[0;34m\u001b[0m\u001b[0m\n\u001b[1;32m     75\u001b[0m         \u001b[0mprint\u001b[0m\u001b[0;34m(\u001b[0m\u001b[0mim\u001b[0m\u001b[0;34m)\u001b[0m\u001b[0;34m\u001b[0m\u001b[0;34m\u001b[0m\u001b[0m\n\u001b[0;32m---> 76\u001b[0;31m         spots_df,norm_image = countagen_spot_detection(\n\u001b[0m\u001b[1;32m     77\u001b[0m             \u001b[0mimage\u001b[0m \u001b[0;34m=\u001b[0m \u001b[0mprojected\u001b[0m\u001b[0;34m[\u001b[0m\u001b[0mim\u001b[0m\u001b[0;34m]\u001b[0m\u001b[0;34m,\u001b[0m\u001b[0;34m\u001b[0m\u001b[0;34m\u001b[0m\u001b[0m\n\u001b[1;32m     78\u001b[0m             \u001b[0mthreshold\u001b[0m \u001b[0;34m=\u001b[0m \u001b[0mthreshold\u001b[0m\u001b[0;34m,\u001b[0m\u001b[0;34m\u001b[0m\u001b[0;34m\u001b[0m\u001b[0m\n",
            "\u001b[0;32m<ipython-input-1-ce54ce49a735>\u001b[0m in \u001b[0;36mcountagen_spot_detection\u001b[0;34m(image, threshold, run_rolling_ball, footprint_value, max_sigma, min_sigma, quantile_to_filter, plot_blobs, cmap_im, mult_factor, cmap_spots, alpha_spots, path_file)\u001b[0m\n\u001b[1;32m    148\u001b[0m     \u001b[0;31m####################################################################################################################################\u001b[0m\u001b[0;34m\u001b[0m\u001b[0;34m\u001b[0m\u001b[0m\n\u001b[1;32m    149\u001b[0m     \u001b[0;31m# find blobs using Laplacian of Gaussian (LoG)\u001b[0m\u001b[0;34m\u001b[0m\u001b[0;34m\u001b[0m\u001b[0m\n\u001b[0;32m--> 150\u001b[0;31m     \u001b[0mspots_l\u001b[0m \u001b[0;34m=\u001b[0m \u001b[0mblob_log\u001b[0m\u001b[0;34m(\u001b[0m\u001b[0mimage_norm\u001b[0m\u001b[0;34m,\u001b[0m \u001b[0mmax_sigma\u001b[0m\u001b[0;34m=\u001b[0m\u001b[0mmax_sigma\u001b[0m\u001b[0;34m,\u001b[0m \u001b[0mnum_sigma\u001b[0m\u001b[0;34m=\u001b[0m\u001b[0mround\u001b[0m\u001b[0;34m(\u001b[0m\u001b[0mmax_sigma\u001b[0m\u001b[0;34m-\u001b[0m\u001b[0mmin_sigma\u001b[0m\u001b[0;34m)\u001b[0m\u001b[0;34m,\u001b[0m \u001b[0mthreshold\u001b[0m\u001b[0;34m=\u001b[0m\u001b[0mthreshold\u001b[0m\u001b[0;34m,\u001b[0m\u001b[0mmin_sigma\u001b[0m\u001b[0;34m=\u001b[0m\u001b[0mmin_sigma\u001b[0m\u001b[0;34m)\u001b[0m\u001b[0;34m\u001b[0m\u001b[0;34m\u001b[0m\u001b[0m\n\u001b[0m\u001b[1;32m    151\u001b[0m     \u001b[0;31m####################################################################################################################################\u001b[0m\u001b[0;34m\u001b[0m\u001b[0;34m\u001b[0m\u001b[0m\n\u001b[1;32m    152\u001b[0m     \u001b[0;31m# extract metadata for each spot\u001b[0m\u001b[0;34m\u001b[0m\u001b[0;34m\u001b[0m\u001b[0m\n",
            "\u001b[0;32m/usr/local/lib/python3.9/dist-packages/skimage/feature/blob.py\u001b[0m in \u001b[0;36mblob_log\u001b[0;34m(image, min_sigma, max_sigma, num_sigma, threshold, overlap, log_scale, threshold_rel, exclude_border)\u001b[0m\n\u001b[1;32m    528\u001b[0m     \u001b[0;31m# computing gaussian laplace\u001b[0m\u001b[0;34m\u001b[0m\u001b[0;34m\u001b[0m\u001b[0m\n\u001b[1;32m    529\u001b[0m     \u001b[0;31m# average s**2 provides scale invariance\u001b[0m\u001b[0;34m\u001b[0m\u001b[0;34m\u001b[0m\u001b[0m\n\u001b[0;32m--> 530\u001b[0;31m     gl_images = [-ndi.gaussian_laplace(image, s) * np.mean(s) ** 2\n\u001b[0m\u001b[1;32m    531\u001b[0m                  for s in sigma_list]\n\u001b[1;32m    532\u001b[0m \u001b[0;34m\u001b[0m\u001b[0m\n",
            "\u001b[0;32m/usr/local/lib/python3.9/dist-packages/skimage/feature/blob.py\u001b[0m in \u001b[0;36m<listcomp>\u001b[0;34m(.0)\u001b[0m\n\u001b[1;32m    528\u001b[0m     \u001b[0;31m# computing gaussian laplace\u001b[0m\u001b[0;34m\u001b[0m\u001b[0;34m\u001b[0m\u001b[0m\n\u001b[1;32m    529\u001b[0m     \u001b[0;31m# average s**2 provides scale invariance\u001b[0m\u001b[0;34m\u001b[0m\u001b[0;34m\u001b[0m\u001b[0m\n\u001b[0;32m--> 530\u001b[0;31m     gl_images = [-ndi.gaussian_laplace(image, s) * np.mean(s) ** 2\n\u001b[0m\u001b[1;32m    531\u001b[0m                  for s in sigma_list]\n\u001b[1;32m    532\u001b[0m \u001b[0;34m\u001b[0m\u001b[0m\n",
            "\u001b[0;32m/usr/local/lib/python3.9/dist-packages/scipy/ndimage/_filters.py\u001b[0m in \u001b[0;36mgaussian_laplace\u001b[0;34m(input, sigma, output, mode, cval, **kwargs)\u001b[0m\n\u001b[1;32m    563\u001b[0m                                **kwargs)\n\u001b[1;32m    564\u001b[0m \u001b[0;34m\u001b[0m\u001b[0m\n\u001b[0;32m--> 565\u001b[0;31m     return generic_laplace(input, derivative2, output, mode, cval,\n\u001b[0m\u001b[1;32m    566\u001b[0m                            \u001b[0mextra_arguments\u001b[0m\u001b[0;34m=\u001b[0m\u001b[0;34m(\u001b[0m\u001b[0msigma\u001b[0m\u001b[0;34m,\u001b[0m\u001b[0;34m)\u001b[0m\u001b[0;34m,\u001b[0m\u001b[0;34m\u001b[0m\u001b[0;34m\u001b[0m\u001b[0m\n\u001b[1;32m    567\u001b[0m                            extra_keywords=kwargs)\n",
            "\u001b[0;32m/usr/local/lib/python3.9/dist-packages/scipy/ndimage/_filters.py\u001b[0m in \u001b[0;36mgeneric_laplace\u001b[0;34m(input, derivative2, output, mode, cval, extra_arguments, extra_keywords)\u001b[0m\n\u001b[1;32m    482\u001b[0m                     *extra_arguments, **extra_keywords)\n\u001b[1;32m    483\u001b[0m         \u001b[0;32mfor\u001b[0m \u001b[0mii\u001b[0m \u001b[0;32min\u001b[0m \u001b[0mrange\u001b[0m\u001b[0;34m(\u001b[0m\u001b[0;36m1\u001b[0m\u001b[0;34m,\u001b[0m \u001b[0mlen\u001b[0m\u001b[0;34m(\u001b[0m\u001b[0maxes\u001b[0m\u001b[0;34m)\u001b[0m\u001b[0;34m)\u001b[0m\u001b[0;34m:\u001b[0m\u001b[0;34m\u001b[0m\u001b[0;34m\u001b[0m\u001b[0m\n\u001b[0;32m--> 484\u001b[0;31m             tmp = derivative2(input, axes[ii], output.dtype, modes[ii], cval,\n\u001b[0m\u001b[1;32m    485\u001b[0m                               *extra_arguments, **extra_keywords)\n\u001b[1;32m    486\u001b[0m             \u001b[0moutput\u001b[0m \u001b[0;34m+=\u001b[0m \u001b[0mtmp\u001b[0m\u001b[0;34m\u001b[0m\u001b[0;34m\u001b[0m\u001b[0m\n",
            "\u001b[0;32m/usr/local/lib/python3.9/dist-packages/scipy/ndimage/_filters.py\u001b[0m in \u001b[0;36mderivative2\u001b[0;34m(input, axis, output, mode, cval, sigma, **kwargs)\u001b[0m\n\u001b[1;32m    560\u001b[0m         \u001b[0morder\u001b[0m \u001b[0;34m=\u001b[0m \u001b[0;34m[\u001b[0m\u001b[0;36m0\u001b[0m\u001b[0;34m]\u001b[0m \u001b[0;34m*\u001b[0m \u001b[0minput\u001b[0m\u001b[0;34m.\u001b[0m\u001b[0mndim\u001b[0m\u001b[0;34m\u001b[0m\u001b[0;34m\u001b[0m\u001b[0m\n\u001b[1;32m    561\u001b[0m         \u001b[0morder\u001b[0m\u001b[0;34m[\u001b[0m\u001b[0maxis\u001b[0m\u001b[0;34m]\u001b[0m \u001b[0;34m=\u001b[0m \u001b[0;36m2\u001b[0m\u001b[0;34m\u001b[0m\u001b[0;34m\u001b[0m\u001b[0m\n\u001b[0;32m--> 562\u001b[0;31m         return gaussian_filter(input, sigma, order, output, mode, cval,\n\u001b[0m\u001b[1;32m    563\u001b[0m                                **kwargs)\n\u001b[1;32m    564\u001b[0m \u001b[0;34m\u001b[0m\u001b[0m\n",
            "\u001b[0;32m/usr/local/lib/python3.9/dist-packages/scipy/ndimage/_filters.py\u001b[0m in \u001b[0;36mgaussian_filter\u001b[0;34m(input, sigma, order, output, mode, cval, truncate, radius)\u001b[0m\n\u001b[1;32m    366\u001b[0m     \u001b[0;32mif\u001b[0m \u001b[0mlen\u001b[0m\u001b[0;34m(\u001b[0m\u001b[0maxes\u001b[0m\u001b[0;34m)\u001b[0m \u001b[0;34m>\u001b[0m \u001b[0;36m0\u001b[0m\u001b[0;34m:\u001b[0m\u001b[0;34m\u001b[0m\u001b[0;34m\u001b[0m\u001b[0m\n\u001b[1;32m    367\u001b[0m         \u001b[0;32mfor\u001b[0m \u001b[0maxis\u001b[0m\u001b[0;34m,\u001b[0m \u001b[0msigma\u001b[0m\u001b[0;34m,\u001b[0m \u001b[0morder\u001b[0m\u001b[0;34m,\u001b[0m \u001b[0mmode\u001b[0m\u001b[0;34m,\u001b[0m \u001b[0mradius\u001b[0m \u001b[0;32min\u001b[0m \u001b[0maxes\u001b[0m\u001b[0;34m:\u001b[0m\u001b[0;34m\u001b[0m\u001b[0;34m\u001b[0m\u001b[0m\n\u001b[0;32m--> 368\u001b[0;31m             gaussian_filter1d(input, sigma, axis, order, output,\n\u001b[0m\u001b[1;32m    369\u001b[0m                               mode, cval, truncate, radius=radius)\n\u001b[1;32m    370\u001b[0m             \u001b[0minput\u001b[0m \u001b[0;34m=\u001b[0m \u001b[0moutput\u001b[0m\u001b[0;34m\u001b[0m\u001b[0;34m\u001b[0m\u001b[0m\n",
            "\u001b[0;32m/usr/local/lib/python3.9/dist-packages/scipy/ndimage/_filters.py\u001b[0m in \u001b[0;36mgaussian_filter1d\u001b[0;34m(input, sigma, axis, order, output, mode, cval, truncate, radius)\u001b[0m\n\u001b[1;32m    274\u001b[0m     \u001b[0;31m# Since we are calling correlate, not convolve, revert the kernel\u001b[0m\u001b[0;34m\u001b[0m\u001b[0;34m\u001b[0m\u001b[0m\n\u001b[1;32m    275\u001b[0m     \u001b[0mweights\u001b[0m \u001b[0;34m=\u001b[0m \u001b[0m_gaussian_kernel1d\u001b[0m\u001b[0;34m(\u001b[0m\u001b[0msigma\u001b[0m\u001b[0;34m,\u001b[0m \u001b[0morder\u001b[0m\u001b[0;34m,\u001b[0m \u001b[0mlw\u001b[0m\u001b[0;34m)\u001b[0m\u001b[0;34m[\u001b[0m\u001b[0;34m:\u001b[0m\u001b[0;34m:\u001b[0m\u001b[0;34m-\u001b[0m\u001b[0;36m1\u001b[0m\u001b[0;34m]\u001b[0m\u001b[0;34m\u001b[0m\u001b[0;34m\u001b[0m\u001b[0m\n\u001b[0;32m--> 276\u001b[0;31m     \u001b[0;32mreturn\u001b[0m \u001b[0mcorrelate1d\u001b[0m\u001b[0;34m(\u001b[0m\u001b[0minput\u001b[0m\u001b[0;34m,\u001b[0m \u001b[0mweights\u001b[0m\u001b[0;34m,\u001b[0m \u001b[0maxis\u001b[0m\u001b[0;34m,\u001b[0m \u001b[0moutput\u001b[0m\u001b[0;34m,\u001b[0m \u001b[0mmode\u001b[0m\u001b[0;34m,\u001b[0m \u001b[0mcval\u001b[0m\u001b[0;34m,\u001b[0m \u001b[0;36m0\u001b[0m\u001b[0;34m)\u001b[0m\u001b[0;34m\u001b[0m\u001b[0;34m\u001b[0m\u001b[0m\n\u001b[0m\u001b[1;32m    277\u001b[0m \u001b[0;34m\u001b[0m\u001b[0m\n\u001b[1;32m    278\u001b[0m \u001b[0;34m\u001b[0m\u001b[0m\n",
            "\u001b[0;32m/usr/local/lib/python3.9/dist-packages/scipy/ndimage/_filters.py\u001b[0m in \u001b[0;36mcorrelate1d\u001b[0;34m(input, weights, axis, output, mode, cval, origin)\u001b[0m\n\u001b[1;32m    132\u001b[0m                          '(len(weights)-1) // 2')\n\u001b[1;32m    133\u001b[0m     \u001b[0mmode\u001b[0m \u001b[0;34m=\u001b[0m \u001b[0m_ni_support\u001b[0m\u001b[0;34m.\u001b[0m\u001b[0m_extend_mode_to_code\u001b[0m\u001b[0;34m(\u001b[0m\u001b[0mmode\u001b[0m\u001b[0;34m)\u001b[0m\u001b[0;34m\u001b[0m\u001b[0;34m\u001b[0m\u001b[0m\n\u001b[0;32m--> 134\u001b[0;31m     _nd_image.correlate1d(input, weights, axis, output, mode, cval,\n\u001b[0m\u001b[1;32m    135\u001b[0m                           origin)\n\u001b[1;32m    136\u001b[0m     \u001b[0;32mreturn\u001b[0m \u001b[0moutput\u001b[0m\u001b[0;34m\u001b[0m\u001b[0;34m\u001b[0m\u001b[0m\n",
            "\u001b[0;31mKeyboardInterrupt\u001b[0m: "
          ]
        }
      ],
      "source": [
        "csv_list = []\n",
        "samples=np.unique([el.split('_')[0] for el in files])\n",
        "for file in samples:\n",
        "    filtered=[el for el in files if file in el[0:len(file)]]\n",
        "    print(filtered)\n",
        "    channels=[el.split(file+'_')[1][:-4] for el in filtered]\n",
        "    suffixes=[el.split(file+'_')[1] for el in filtered]\n",
        "    suffixes.sort()\n",
        "    print(file)\n",
        "    image=group_channels(path,file,suffixes)\n",
        "    print('Grouping done')\n",
        "    concat_df,image_norm = countagen_main(\n",
        "        image = image,\n",
        "        channel_index = 0,\n",
        "        z_stack_index = 1,\n",
        "        threshold = 1.4,\n",
        "        run_rolling_ball=False,\n",
        "        footprint_value = 2,\n",
        "        max_radius = 10,\n",
        "        min_radius = 3,\n",
        "        path_file=output_folder+file.split('.')[0],\n",
        "        channels=channels\n",
        "    )\n",
        "    print('write output')\n",
        "    concat_df['file'] = file\n",
        "    concat_df=add_quality(concat_df,image_norm)\n",
        "    concat_df['xc'] = concat_df['x']\n",
        "    concat_df['xc'] = concat_df['x']\n",
        "    concat_df['target'] = 'channel_' + concat_df['channel'].astype(str)\n",
        "    concat_df.to_csv(output_folder+file.split('.')[0]+'.csv')\n",
        "    metrics = extract_metrics(concat_df)\n",
        "    metrics['file'] = file\n",
        "    metrics.to_csv(output_folder+file.split('.')[0]+'_metrics.csv')\n",
        "    csv_list.append(metrics)\n",
        "summary_stats = pd.concat(csv_list)\n",
        "summary_stats.to_csv(output_folder+'summary_stats.csv')"
      ]
    },
    {
      "cell_type": "code",
      "execution_count": null,
      "metadata": {
        "id": "ZdrHNQ9y1jQw"
      },
      "outputs": [],
      "source": []
    },
    {
      "cell_type": "code",
      "execution_count": null,
      "metadata": {
        "id": "Si7s3yWF2WM-"
      },
      "outputs": [],
      "source": []
    },
    {
      "cell_type": "code",
      "execution_count": null,
      "metadata": {
        "id": "oNIud1-32Ymb"
      },
      "outputs": [],
      "source": []
    }
  ],
  "metadata": {
    "colab": {
      "provenance": []
    },
    "kernelspec": {
      "display_name": "Python 3",
      "name": "python3"
    },
    "language_info": {
      "name": "python"
    }
  },
  "nbformat": 4,
  "nbformat_minor": 0
}
