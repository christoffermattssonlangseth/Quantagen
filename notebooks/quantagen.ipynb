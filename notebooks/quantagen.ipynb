{
 "cells": [
  {
   "cell_type": "markdown",
   "metadata": {
    "id": "OwgVQ_Zb-OuT"
   },
   "source": [
    "# Define functions\n",
    "First, we need to define the functions that we need to use for indentifying the spots in the images. Press the **play** button to execute the chunk of code and if you are curious about what is going on behind the scenes, **show code** expands the full code.\n",
    "\n",
    "The way to execute the code is to either press the **play** button or press **shift+enter**"
   ]
  },
  {
   "cell_type": "code",
   "execution_count": 3,
   "metadata": {
    "id": "5nfGeDVIrglw"
   },
   "outputs": [],
   "source": [
    "import numpy as np\n",
    "import pandas as pd\n",
    "import quantagen.image_processing\n",
    "import quantagen.core\n",
    "import quantagen.utils"
   ]
  },
  {
   "cell_type": "markdown",
   "metadata": {
    "id": "weRKK_wQ_ftk"
   },
   "source": [
    "# Define path to images and the desired output location\n",
    "In this step it is important that your drive has been mounted correctly since we need to locate where the files are stored. We will point to the program where to look for your images.\n",
    "\n",
    "Also, we will extract the dimensions of your images for you the user to check if the dimensions extracted (C - channels; Z - Z-stacks; X & Y pixel dimension) are correct, and if they are specified in the right order (see below)."
   ]
  },
  {
   "cell_type": "code",
   "execution_count": 4,
   "metadata": {
    "colab": {
     "base_uri": "https://localhost:8080/"
    },
    "id": "hIwIK7yOPp5H",
    "outputId": "09bb2500-9cee-4893-98a9-55c6267fc8c3"
   },
   "outputs": [
    {
     "name": "stdout",
     "output_type": "stream",
     "text": [
      " \n",
      "Image 1, Z dimension seems to be (1): 5\n",
      "Image 1, X dimension seems to be (2): 2048\n",
      "Image 1, Y dimension seems to be (3): 2048\n",
      " \n",
      "Image 2, Z dimension seems to be (1): 5\n",
      "Image 2, X dimension seems to be (2): 2048\n",
      "Image 2, Y dimension seems to be (3): 2048\n",
      " \n",
      "Image 3, Z dimension seems to be (1): 5\n",
      "Image 3, X dimension seems to be (2): 2048\n",
      "Image 3, Y dimension seems to be (3): 2048\n",
      " \n",
      "Image 4, Z dimension seems to be (1): 5\n",
      "Image 4, X dimension seems to be (2): 2048\n",
      "Image 4, Y dimension seems to be (3): 2048\n",
      " \n",
      "Image 5, Z dimension seems to be (1): 5\n",
      "Image 5, X dimension seems to be (2): 2048\n",
      "Image 5, Y dimension seems to be (3): 2048\n",
      " \n",
      "Image 6, Z dimension seems to be (1): 5\n",
      "Image 6, X dimension seems to be (2): 2048\n",
      "Image 6, Y dimension seems to be (3): 2048\n",
      " \n",
      "Please proceed to the analysis only if dimensions are correct. Otherwise you need to change the parameters specified in index values in countagen_main, following the instructions in the IMPORTANT NOTE section\n"
     ]
    }
   ],
   "source": [
    "path = '/Users/chrislangseth/development/Quantagen/data/test_data/'\n",
    "output_folder = '/Users/chrislangseth/test_output/'\n",
    "if not os.path.exists(output_folder):\n",
    "    os.makedirs(output_folder)\n",
    "files = quantagen.image_processing.get_image_dimensions(path)"
   ]
  },
  {
   "cell_type": "markdown",
   "metadata": {
    "id": "QtloyB6kX3J5"
   },
   "source": [
    "# Important note!\n",
    "Now it is time to make sure that your images have the dimensions specified in the right order. Have a look at the output from the previous cell. Does this make sense?\n",
    "\n",
    "If you think the order is not accurate (ie. channels and number of z-planes are inverted), you need to change the **numbering** of the following parameters in the next chunk of code, where the *countagen_main* function is applied.\n",
    "\n",
    "1. channel_index = 0\n",
    "2. z_stack_index = 1\n",
    "3. x_index = 2\n",
    "4. y_index = 3\n",
    "\n",
    "As an example:\n",
    "Imagine you took an image with 7 z-planes, in 3 colours, with a XY resolution of 1000x2000, you load it in the script and the output from the previous block of code says:\n",
    "\n",
    "*Image A, C dimension seems to be (0): 7*\n",
    "\n",
    "*Image A, Z dimension seems to be (1): 3*\n",
    "\n",
    "*Image A, X dimension seems to be (2): 1000*\n",
    "\n",
    "*Image A, Y dimension seems to be (3): 2000*\n",
    "\n",
    "This is a sign that your C (channel) and Z dimensions have been misattributed. This sometimes can happen depending on the software you used to generate the images. In this specificic case your image's dimensions are specified in the order ZCXY, while this scripts wants the images to be specified in the order CZXY.\n",
    "\n",
    "This problem can easily be fixed by re-specifying the sequence of dimensions in the following function. Keep in mind that python begins to count from 0, so the first dimension has position 0, the second has 1, etc....\n",
    "\n",
    "In this specific case, where we want to convert a ZCXY image into a CZXY image, we just need to invert the numbering of the parameters:\n",
    "\n",
    "channel_index = (we now should set it to 1)\n",
    "\n",
    "z_stack_index = (we now should set it to 0)\n",
    "\n",
    "This will shuffle the image dimension accordingly, and proceed to image processing.\n",
    "\n",
    "**Because the script processes entire folders, it is important that the image orders are specified in the same way for all the files in the folder. If you have files with different dimension orders in a single folder, please move them to separate subfolders and process each subfolder independently.**\n"
   ]
  },
  {
   "cell_type": "markdown",
   "metadata": {
    "id": "PfPvGc0lPtbC"
   },
   "source": [
    "# Main function\n",
    "Now it is time to run the main function in the detection.\n",
    "\n",
    "## Parameters to play with:\n",
    "\n",
    "\n",
    "1. **project:**: this specifies whether the images need to be projected (True) or if they have already been projected with an external software (False)\n",
    "2. **threshold**: this is the most important parameter in the detection. Smaller threshold will allow more spots to be captured but you run the risk of capturing more noise.\n",
    "3. **mult**: this is multiplication factor that we apply to the images for visualization purposes and **will not** have an effect on the output. Default here is 10.\n",
    "4. **radius**: this is the top hat filter radius to use in the filtering of the images. Bigger values will allow bigger spots to be kept.\n",
    "\n",
    "Dimensions order:  see the documentation of the previous block to understand how to manipulate these parameters according to your image type."
   ]
  },
  {
   "cell_type": "code",
   "execution_count": 5,
   "metadata": {
    "colab": {
     "base_uri": "https://localhost:8080/",
     "height": 468
    },
    "id": "Pevvdw7WrhHf",
    "outputId": "31061d2c-917b-43c3-f3d1-470cca334b7b"
   },
   "outputs": [
    {
     "name": "stdout",
     "output_type": "stream",
     "text": [
      "['15-a_RAW_ch02.tif', '15-a_RAW_ch01.tif', '15-a_RAW_ch00.tif']\n",
      "15-a\n",
      "Grouping done\n",
      "0\n",
      "(2048, 2048)\n",
      "The number of spots detected in your image is: 513\n",
      "1\n",
      "(2048, 2048)\n",
      "The number of spots detected in your image is: 87\n",
      "2\n",
      "(2048, 2048)\n",
      "The number of spots detected in your image is: 1101\n",
      "channel\n",
      "2    1101\n",
      "0     513\n",
      "1      87\n",
      "Name: count, dtype: int64\n",
      "write output\n",
      "0\n",
      "1\n",
      "2\n",
      "['5-a_RAW_ch02.tif', '5-a_RAW_ch00.tif', '5-a_RAW_ch01.tif']\n",
      "5-a\n"
     ]
    },
    {
     "name": "stderr",
     "output_type": "stream",
     "text": [
      "/Users/chrislangseth/development/Quantagen/quantagen/utils.py:27: FutureWarning: Setting an item of incompatible dtype is deprecated and will raise in a future error of pandas. Value '501.689669594312' has dtype incompatible with int64, please explicitly cast to a compatible dtype first.\n",
      "  concat_df.iloc[num,concat_df.shape[1]-1]=quality_of_spot\n"
     ]
    },
    {
     "name": "stdout",
     "output_type": "stream",
     "text": [
      "Grouping done\n",
      "0\n",
      "(2048, 2048)\n",
      "The number of spots detected in your image is: 394\n",
      "1\n",
      "(2048, 2048)\n",
      "The number of spots detected in your image is: 166\n",
      "2\n",
      "(2048, 2048)\n",
      "The number of spots detected in your image is: 1012\n",
      "channel\n",
      "2    1012\n",
      "0     394\n",
      "1     166\n",
      "Name: count, dtype: int64\n",
      "write output\n",
      "0\n",
      "1\n",
      "2\n"
     ]
    },
    {
     "name": "stderr",
     "output_type": "stream",
     "text": [
      "/Users/chrislangseth/development/Quantagen/quantagen/utils.py:27: FutureWarning: Setting an item of incompatible dtype is deprecated and will raise in a future error of pandas. Value '480.7579787234042' has dtype incompatible with int64, please explicitly cast to a compatible dtype first.\n",
      "  concat_df.iloc[num,concat_df.shape[1]-1]=quality_of_spot\n"
     ]
    }
   ],
   "source": [
    "csv_list = []\n",
    "samples=np.unique([el.split('_')[0] for el in files])\n",
    "for file in samples:\n",
    "    filtered=[el for el in files if file in el[0:len(file)]]\n",
    "    print(filtered)\n",
    "    channels=[el.split(file+'_')[1][:-4] for el in filtered]\n",
    "    suffixes=[el.split(file+'_')[1] for el in filtered]\n",
    "    suffixes.sort()\n",
    "    print(file)\n",
    "    image=quantagen.image_processing.group_channels(path,file,suffixes)\n",
    "    print('Grouping done')\n",
    "    concat_df,image_norm = quantagen.core.countagen_main(\n",
    "        image = image,\n",
    "        channel_index = 0,\n",
    "        z_stack_index = 1,\n",
    "        threshold = 1.4,\n",
    "        run_rolling_ball=False,\n",
    "        footprint_value = 2,\n",
    "        max_radius = 10,\n",
    "        min_radius = 3,\n",
    "        plot_blobs = False,\n",
    "        path_file=output_folder+file.split('.')[0],\n",
    "        channels=channels\n",
    "    )\n",
    "    print('write output')\n",
    "    concat_df['file'] = file\n",
    "    concat_df=quantagen.utils.add_quality(concat_df,image_norm)\n",
    "    \n",
    "    concat_df['target'] = 'channel_' + concat_df['channel'].astype(str)\n",
    "    concat_df.to_csv(output_folder+file.split('.')[0]+'.csv')\n",
    "    metrics = quantagen.utils.extract_metrics(concat_df)\n",
    "    metrics['file'] = file\n",
    "    metrics.to_csv(output_folder+file.split('.')[0]+'_metrics.csv')\n",
    "    csv_list.append(metrics)\n",
    "summary_stats = pd.concat(csv_list)\n",
    "summary_stats.to_csv(output_folder+'summary_stats.csv')"
   ]
  },
  {
   "cell_type": "code",
   "execution_count": null,
   "metadata": {
    "id": "ZdrHNQ9y1jQw"
   },
   "outputs": [],
   "source": []
  },
  {
   "cell_type": "code",
   "execution_count": null,
   "metadata": {
    "id": "Si7s3yWF2WM-"
   },
   "outputs": [],
   "source": []
  },
  {
   "cell_type": "code",
   "execution_count": null,
   "metadata": {
    "id": "oNIud1-32Ymb"
   },
   "outputs": [],
   "source": []
  }
 ],
 "metadata": {
  "colab": {
   "provenance": []
  },
  "kernelspec": {
   "display_name": "TF_SONOMA",
   "language": "python",
   "name": "tf_sonoma"
  },
  "language_info": {
   "codemirror_mode": {
    "name": "ipython",
    "version": 3
   },
   "file_extension": ".py",
   "mimetype": "text/x-python",
   "name": "python",
   "nbconvert_exporter": "python",
   "pygments_lexer": "ipython3",
   "version": "3.9.18"
  }
 },
 "nbformat": 4,
 "nbformat_minor": 4
}
